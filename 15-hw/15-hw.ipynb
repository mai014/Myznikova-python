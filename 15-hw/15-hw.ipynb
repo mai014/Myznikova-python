{
 "cells": [
  {
   "cell_type": "markdown",
   "id": "7522cfb1",
   "metadata": {},
   "source": [
    "№1"
   ]
  },
  {
   "cell_type": "code",
   "execution_count": 43,
   "id": "53e6085b",
   "metadata": {},
   "outputs": [
    {
     "name": "stdout",
     "output_type": "stream",
     "text": [
      "['1', 23, '2', 24, '3', 22]\n",
      "['biology', 'swimming', 'math', 'computer games', 'running', 'languages', 'health food']\n",
      "20\n"
     ]
    }
   ],
   "source": [
    "def f(d):\n",
    "    interest = []\n",
    "    name = ''\n",
    "    for keys in d.keys():\n",
    "        for elem in d[keys]['interests']:\n",
    "            interest.append(elem)\n",
    "        name += d[keys]['surname']\n",
    "    cnt = len(name)\n",
    "    return interest, cnt\n",
    "\n",
    "\n",
    "students = {\n",
    "    '1': {\n",
    "        'name': 'Bob',\n",
    "        'surname': 'Vazovski',\n",
    "        'age': 23,\n",
    "        'interests': ['biology', 'swimming']\n",
    "    },\n",
    "    '2': {\n",
    "        'name': 'Rob',\n",
    "        'surname': 'Stepanov',\n",
    "        'age': 24,\n",
    "        'interests': ['math', 'computer games', 'running']\n",
    "    },\n",
    "    '3': {\n",
    "        'name': 'Alexander',\n",
    "        'surname': 'Krug',\n",
    "        'age': 22,\n",
    "        'interests': ['languages', 'health food']\n",
    "    }\n",
    "}\n",
    "\n",
    "pairs = []\n",
    "for key in students.keys():\n",
    "    pairs.append(key)\n",
    "    pairs.append(students[key]['age'])\n",
    "print(pairs)\n",
    "\n",
    "my_lst = f(students)[0]\n",
    "name_len = f(students)[1]\n",
    "print(my_lst)\n",
    "print(name_len)\n"
   ]
  },
  {
   "cell_type": "markdown",
   "id": "88a0741a",
   "metadata": {},
   "source": [
    "№2"
   ]
  },
  {
   "cell_type": "code",
   "execution_count": 44,
   "id": "f06db3d9",
   "metadata": {},
   "outputs": [
    {
     "name": "stdout",
     "output_type": "stream",
     "text": [
      "[2, 3, 5]\n",
      "['л', 'ю', 'л', ' ', 'о', '!']\n",
      "['vendor', 'model', 'ip']\n"
     ]
    }
   ],
   "source": [
    "def result(check):\n",
    "    return([val for num, val in enumerate(check) if is_prime(num)])\n",
    "\n",
    "\n",
    "def is_prime(n):\n",
    "    count = 0\n",
    "    for i in range(1, n + 1):\n",
    "        if n % i == 0:\n",
    "            count += 1\n",
    "    if count == 2:\n",
    "        return True\n",
    "    else:\n",
    "        return False\n",
    "\n",
    "\n",
    "lst = [0, 1, 2, 3, 4, 5]\n",
    "str = 'Я люблю питон!'\n",
    "tuple_ = ('hostname', 'location', 'vendor', 'model', 'ios', 'ip')\n",
    "print(result(lst))\n",
    "print(result(str))\n",
    "print(result(tuple_))"
   ]
  },
  {
   "cell_type": "markdown",
   "id": "ba3106a8",
   "metadata": {},
   "source": [
    "№3"
   ]
  },
  {
   "cell_type": "code",
   "execution_count": 45,
   "id": "e173084e",
   "metadata": {},
   "outputs": [
    {
     "name": "stdout",
     "output_type": "stream",
     "text": [
      "Введите число: 2\n",
      "(2, 3, 4, 2)\n"
     ]
    }
   ],
   "source": [
    "def new_tuple(tpl, elm):\n",
    "    if elm in tpl:\n",
    "        if tpl.count(elm) == 0:\n",
    "            return tuple()\n",
    "        elif tpl.count(elm) == 1:\n",
    "            return tpl[tpl.index(elm):]\n",
    "        else:\n",
    "            first = tpl.index(elm)\n",
    "            last = tpl.index(elm, first + 1)\n",
    "            return tpl[first:last+1]\n",
    "my_tuple = (1, 2, 3, 4, 2, 5)\n",
    "elem = int(input('Введите число: '))\n",
    "print(new_tuple(my_tuple, elem))"
   ]
  },
  {
   "cell_type": "markdown",
   "id": "9b5329f0",
   "metadata": {},
   "source": [
    "№4"
   ]
  },
  {
   "cell_type": "code",
   "execution_count": 46,
   "id": "827414b4",
   "metadata": {},
   "outputs": [
    {
     "name": "stdout",
     "output_type": "stream",
     "text": [
      "[('Ivan', 'Volkin', 10, 5, 13), ('Bob', 'Robbin', 7, 5, 14), ('Rob', 'Bobbin', 12, 8, 2)]\n"
     ]
    }
   ],
   "source": [
    "players = {\n",
    "    ('Ivan', 'Volkin'): (10, 5, 13),\n",
    "    ('Bob', 'Robbin'): (7, 5, 14),\n",
    "    ('Rob', 'Bobbin'): (12, 8, 2)\n",
    "}\n",
    "my_lst = [tuple_1 + tuple_2 for tuple_1, tuple_2 in players.items()]\n",
    "print(my_lst)"
   ]
  },
  {
   "cell_type": "markdown",
   "id": "dc13f7fa",
   "metadata": {},
   "source": [
    "№5"
   ]
  },
  {
   "cell_type": "code",
   "execution_count": 57,
   "id": "0577dfde",
   "metadata": {},
   "outputs": [
    {
     "name": "stdout",
     "output_type": "stream",
     "text": [
      "Введите фамилию: Иванова\n",
      "Иванов Иван 15\n",
      "Иванова Дарья 16\n"
     ]
    }
   ],
   "source": [
    "d= {\n",
    "    'Сидоров Никита' : 35,\n",
    "    'Сидорова Алина' : 34,\n",
    "    'Сидоров Павел' : 10,\n",
    "    'Иванов Иван' : 15,\n",
    "    'Иванова Дарья' : 16,\n",
    "    'Сидоров Петр' : 40\n",
    "}\n",
    "lst1 = ['в', 'н']\n",
    "surname = list(input('Введите фамилию: '))\n",
    "if surname[len(surname)-1] in lst1:\n",
    "    female_surname = ''.join(surname) + 'а'\n",
    "elif surname[len(surname)-1] == 'а':\n",
    "    time_surname = surname\n",
    "    female_surname = ''.join(time_surname)\n",
    "    surname = [time_surname[i] for i in range(0, len(time_surname)-1)]\n",
    "elif surname[len(surname)-1] == 'й':\n",
    "    female_surname = ''.join([surname[i] for i in range(0, len(surname)-2)]) + 'ая'\n",
    "for key, val in d.items():\n",
    "    new_key = key.split()\n",
    "    if new_key[0] == ''.join(surname):\n",
    "            print(key, val)\n",
    "    elif new_key[0] == female_surname:\n",
    "        print(key, val)\n"
   ]
  },
  {
   "cell_type": "markdown",
   "id": "97f11a76",
   "metadata": {},
   "source": [
    "№6"
   ]
  },
  {
   "cell_type": "code",
   "execution_count": 54,
   "id": "864a9a5a",
   "metadata": {},
   "outputs": [
    {
     "name": "stdout",
     "output_type": "stream",
     "text": [
      "[7, 9, -6, 7, -10, 9, -8, 1, -10, -3]\n",
      "[(7, 9), (-6, 7), (-10, 9), (-8, 1), (-10, -3)]\n"
     ]
    }
   ],
   "source": [
    "import numpy as np\n",
    "\n",
    "my_lst = list(np.random.randint(-10, 10, 10))\n",
    "new_lst = [(my_lst[2*i], my_lst[2*i+1]) for i in range(0, 5)]\n",
    "print(my_lst)\n",
    "print(new_lst)"
   ]
  },
  {
   "cell_type": "markdown",
   "id": "c3abac53",
   "metadata": {},
   "source": [
    "№7"
   ]
  },
  {
   "cell_type": "code",
   "execution_count": 55,
   "id": "98889101",
   "metadata": {},
   "outputs": [
    {
     "name": "stdout",
     "output_type": "stream",
     "text": [
      "(-4, 1, 2, 3, 6)\n",
      "(1, 0.3, 6, -8.9)\n",
      "(2, 9, 0, 'a', -4)\n"
     ]
    }
   ],
   "source": [
    "def sort(tpl):\n",
    "    for elem in tpl:\n",
    "        if type(elem) != int:\n",
    "            return tpl\n",
    "            break\n",
    "    new_lst = list(tpl)\n",
    "    new_tpl = tuple(sorted(tpl))\n",
    "    return new_tpl\n",
    "        \n",
    "\n",
    "tpl_1 = (1, 3, 2, -4, 6)\n",
    "tpl_2 = (1, 0.3, 6, -8.9)\n",
    "tpl_3 = (2, 9, 0, 'a', -4)\n",
    "print(sort(tpl_1))\n",
    "print(sort(tpl_2))\n",
    "print(sort(tpl_3))"
   ]
  },
  {
   "cell_type": "markdown",
   "id": "2a26df72",
   "metadata": {},
   "source": [
    "№8"
   ]
  },
  {
   "cell_type": "code",
   "execution_count": 58,
   "id": "9235256e",
   "metadata": {},
   "outputs": [
    {
     "name": "stdout",
     "output_type": "stream",
     "text": [
      "Введите команду: Поиск человека по фамилии\n",
      "Введите фамилию: Иванов\n",
      "Иванов Иван 15\n",
      "Иванова Дарья 16\n",
      "Введите команду: Добавить контакт\n",
      "Введите имя и фамилию: Мызникова Настя\n",
      "Телефонный номер: 99\n",
      "{'Сидоров Никита': 35, 'Сидорова Алина': 34, 'Сидоров Павел': 10, 'Иванов Иван': 15, 'Иванова Дарья': 16, 'Сидоров Петр': 40, 'Мызникова Настя': 99}\n",
      "Введите команду: Стоп\n"
     ]
    }
   ],
   "source": [
    "d = {\n",
    "    'Сидоров Никита' : 35,\n",
    "    'Сидорова Алина' : 34,\n",
    "    'Сидоров Павел' : 10,\n",
    "    'Иванов Иван' : 15,\n",
    "    'Иванова Дарья' : 16,\n",
    "    'Сидоров Петр' : 40\n",
    "}\n",
    "action = input('Введите команду: ')\n",
    "while action != 'Стоп':\n",
    "    if action == 'Добавить контакт':\n",
    "        name = input('Введите имя и фамилию: ')\n",
    "        tel_num = int(input('Телефонный номер: '))\n",
    "        if name not in d.keys():\n",
    "            d[name] = tel_num\n",
    "        print(d)\n",
    "    elif action == 'Поиск человека по фамилии':\n",
    "        lst1 = ['в', 'н']\n",
    "        surname = list(input('Введите фамилию: '))\n",
    "        if surname[len(surname)-1] in lst1:\n",
    "            female_surname = ''.join(surname) + 'а'\n",
    "        elif surname[len(surname)-1] == 'а':\n",
    "            time_surname = surname\n",
    "            female_surname = ''.join(time_surname)\n",
    "            surname = [time_surname[i] for i in range(0, len(time_surname)-1)]\n",
    "        elif surname[len(surname)-1] == 'й':\n",
    "            female_surname = ''.join([surname[i] for i in range(0, len(surname)-2)]) + 'ая'\n",
    "        for key, val in d.items():\n",
    "            new_key = key.split()\n",
    "            if new_key[0] == ''.join(surname):\n",
    "                    print(key, val)\n",
    "            elif new_key[0] == female_surname:\n",
    "                print(key, val)\n",
    "    action = input('Введите команду: ')"
   ]
  },
  {
   "cell_type": "markdown",
   "id": "dee4f666",
   "metadata": {},
   "source": [
    "№9"
   ]
  },
  {
   "cell_type": "code",
   "execution_count": 18,
   "id": "576a7fbc",
   "metadata": {},
   "outputs": [
    {
     "name": "stdout",
     "output_type": "stream",
     "text": [
      "Сколько записей вносится в протокол? 4\n",
      "Записи (результат и имя):\n",
      "1 пара: 45 Nastya\n",
      "2 пара: 23 Nastya\n",
      "3 пара: 45 Ksusha\n",
      "4 пара: 26 Lena\n",
      "1 место: Nastya 45\n",
      "2 место: Ksusha 45\n",
      "3 место: Lena 26\n"
     ]
    }
   ],
   "source": [
    "N = int(input('Сколько записей вносится в протокол? '))\n",
    "print('Записи (результат и имя):')\n",
    "d = dict()\n",
    "for time in range(1, N +1):\n",
    "    print(time, 'пара: ', end='')\n",
    "    point, name = input().split()\n",
    "    point = int(point)\n",
    "    if name in d.keys():\n",
    "        if d[name][1] < point:\n",
    "            d[name][0] = time\n",
    "            d[name][1] = point\n",
    "    else:\n",
    "        d[name] = [time, point]\n",
    "for place in range(1, 4):\n",
    "    maxim = 0\n",
    "    t = 0\n",
    "    for k, val in d.items():\n",
    "        if val[1] > maxim:\n",
    "            first = k\n",
    "            maxim = val[1]\n",
    "            t = val[0]\n",
    "        elif val[1] == maxim:\n",
    "            if val[0] < t:\n",
    "                first = k\n",
    "                t = val[0]\n",
    "    print(place, 'место:', first, maxim)\n",
    "    del d[first]"
   ]
  },
  {
   "cell_type": "markdown",
   "id": "eacd6836",
   "metadata": {},
   "source": [
    "№10"
   ]
  },
  {
   "cell_type": "code",
   "execution_count": 1,
   "id": "bf437475",
   "metadata": {},
   "outputs": [
    {
     "name": "stdout",
     "output_type": "stream",
     "text": [
      "Введите строку: cgdhc\n",
      "Введите элемент кортежа: 1\n",
      "Введите элемент кортежа: 2\n",
      "Введите элемент кортежа: 5\n",
      "Введите элемент кортежа: 3\n",
      "Введите элемент кортежа: 8\n",
      "('c', 1)\n",
      "('g', 2)\n",
      "('d', 5)\n",
      "('h', 3)\n",
      "('c', 8)\n"
     ]
    }
   ],
   "source": [
    "my_str = input('Введите строку: ')\n",
    "my_tpl = tuple([int(input('Введите элемент кортежа: ')) for _ in range(0, len(my_str))])\n",
    "for i in range(0, len(my_str)):\n",
    "    print((my_str[i], my_tpl[i]))"
   ]
  }
 ],
 "metadata": {
  "kernelspec": {
   "display_name": "Python 3 (ipykernel)",
   "language": "python",
   "name": "python3"
  },
  "language_info": {
   "codemirror_mode": {
    "name": "ipython",
    "version": 3
   },
   "file_extension": ".py",
   "mimetype": "text/x-python",
   "name": "python",
   "nbconvert_exporter": "python",
   "pygments_lexer": "ipython3",
   "version": "3.10.2"
  }
 },
 "nbformat": 4,
 "nbformat_minor": 5
}
