{
 "cells": [
  {
   "cell_type": "markdown",
   "id": "96ee98a2",
   "metadata": {},
   "source": [
    "# 1. Сумма чисел 2"
   ]
  },
  {
   "cell_type": "code",
   "execution_count": 14,
   "id": "7f00c367",
   "metadata": {},
   "outputs": [],
   "source": [
    "summ = 0\n",
    "with open(\"numbers.txt\", \"r\") as f:\n",
    "    for line in f:\n",
    "        for elem in line:\n",
    "            if elem != ' ' and elem != '\\n':\n",
    "                summ += int(elem)\n",
    "    with open(\"answer.txt\", 'w') as f1:\n",
    "        print(summ, file=f1)"
   ]
  },
  {
   "cell_type": "markdown",
   "id": "be227173",
   "metadata": {},
   "source": [
    "# 2. Дзен Пайтона"
   ]
  },
  {
   "cell_type": "code",
   "execution_count": 23,
   "id": "6996c0c4",
   "metadata": {},
   "outputs": [
    {
     "name": "stdout",
     "output_type": "stream",
     "text": [
      "Namespaces are one honking great idea -- let's do more of those!\n",
      "If the implementation is easy to explain, it may be a good idea.\n",
      "If the implementation is hard to explain, it's a bad idea.\n",
      "Although never is often better than *right* now.\n",
      "Now is better than never.\n",
      "Although that way may not be obvious at first unless you're Dutch.\n",
      "There should be one-- and preferably only one --obvious way to do it.\n",
      "In the face of ambiguity, refuse the temptation to guess.\n",
      "Unless explicitly silenced.\n",
      "Errors should never pass silently.\n",
      "Although practicality beats purity.\n",
      "Special cases aren't special enough to break the rules.\n",
      "Readability counts.\n",
      "Sparse is better than dense.\n",
      "Flat is better than nested.\n",
      "Complex is better than complicated.\n",
      "Simple is better than complex.\n",
      "Explicit is better than implicit.\n",
      "Beautiful is better than ugly.\n"
     ]
    }
   ],
   "source": [
    "with open(\"zen.txt\", \"r\") as f:\n",
    "    my_str = f.read().splitlines() \n",
    "    for i in range(len(my_str) - 1, -1, -1):\n",
    "        print(my_str[i])"
   ]
  },
  {
   "cell_type": "markdown",
   "id": "c825335e",
   "metadata": {},
   "source": [
    "# 3. Дзен Пайтона 2"
   ]
  },
  {
   "cell_type": "code",
   "execution_count": 26,
   "id": "b0bef9e5",
   "metadata": {},
   "outputs": [
    {
     "name": "stdout",
     "output_type": "stream",
     "text": [
      "Число букв: 652\n",
      "Число слов: 137\n",
      "Число строк: 19\n"
     ]
    }
   ],
   "source": [
    "lst = ['a','b','c','d','e','f','g','h','i','j','k','l','m','n','o','p','q','r','s','t','u','v','w','x','y','z','A','B','C','D','E','F','G','H','I','J','K','L','M','N','O','P','Q','R','S','T','U','V','W','X','Y','Z']\n",
    "num_let = 0\n",
    "num_word = 0\n",
    "num_str = 0\n",
    "with open(\"zen.txt\", \"r\") as f:\n",
    "    my_lst = f.read()\n",
    "    num_let = len([i for i in my_lst if i in lst])\n",
    "    num_word = len(my_lst.split())\n",
    "    num_str = len(my_lst.split('\\n'))\n",
    "print('Число букв:', num_let)\n",
    "print('Число слов:', num_word)\n",
    "print('Число строк:', num_str)"
   ]
  },
  {
   "cell_type": "markdown",
   "id": "9a35dcfc",
   "metadata": {},
   "source": [
    "# 4. Файлы и папки"
   ]
  },
  {
   "cell_type": "code",
   "execution_count": 4,
   "id": "a1bfbc40",
   "metadata": {},
   "outputs": [
    {
     "name": "stdout",
     "output_type": "stream",
     "text": [
      "Размер каталога (в Кб):  9.369140625\n",
      "Количество подкаталогов:  1\n",
      "Количество файлов:  10\n"
     ]
    }
   ],
   "source": [
    "import os\n",
    "\n",
    "path = r'C:'\n",
    "total_size = 0\n",
    "path, dirs, files = next(os.walk(path))\n",
    "for f in files:\n",
    "    fp = os.path.join(path, f)\n",
    "    total_size += os.path.getsize(fp)\n",
    "print('Размер каталога (в Кб): ', total_size / 1024)\n",
    "print('Количество подкаталогов: ', len(dirs))\n",
    "print('Количество файлов: ', len(files))"
   ]
  },
  {
   "cell_type": "markdown",
   "id": "4bc3175d",
   "metadata": {},
   "source": [
    "# 5. Сохранение "
   ]
  },
  {
   "cell_type": "code",
   "execution_count": 6,
   "id": "1c2c74a3",
   "metadata": {},
   "outputs": [
    {
     "name": "stdout",
     "output_type": "stream",
     "text": [
      "Введите строку: hehe\n",
      "Куда хотите сохранить документ? Введите последовательность папок (через пробел): Projects Myznikova-python 17-hw\n",
      "Введите имя файла: new_file\n",
      "Вы действительно хотите перезаписать файл?да\n",
      "Файл успешно перезаписан!\n"
     ]
    }
   ],
   "source": [
    "import os\n",
    "\n",
    "text = str(input('Введите строку: '))\n",
    "path = str(input('Куда хотите сохранить документ? Введите последовательность папок (через пробел): '))\n",
    "name = str(input('Введите имя файла: '))\n",
    "new_path = str(\"C:\\\\\" + path.replace(\" \", \"\\\\\") + \"\\\\\" + name + \".txt\")\n",
    "check_file = os.path.exists(new_path)\n",
    "if check_file:\n",
    "    answer = input('Вы действительно хотите перезаписать файл?')\n",
    "    if answer == 'да':\n",
    "        file = open(new_path, \"w\")\n",
    "        file.write(text)\n",
    "        file.close()\n",
    "        print('Файл успешно перезаписан!')\n",
    "    else:\n",
    "        f = open(new_path, \"w\")\n",
    "        f.write(text)\n",
    "        f.close()\n",
    "        print('Файл успешно сохранён!')"
   ]
  },
  {
   "cell_type": "markdown",
   "id": "8cc96cd5",
   "metadata": {},
   "source": [
    "# 6. Паранойа"
   ]
  },
  {
   "cell_type": "code",
   "execution_count": 3,
   "id": "426bc07f",
   "metadata": {},
   "outputs": [],
   "source": [
    "lst_down = ['a','b','c','d','e','f','g','h','i','j','k','l','m','n','o','p','q','r','s','t','u','v','w','x','y','z']\n",
    "lst_up = ['A','B','C','D','E','F','G','H','I','J','K','L','M','N','O','P','Q','R','S','T','U','V','W','X','Y','Z']\n",
    "new_lst = []\n",
    "with open(\"text.txt\", \"r\") as f:\n",
    "    i = 0\n",
    "    for line in f:\n",
    "        i += 1\n",
    "        for elem in line:\n",
    "            if elem in lst_down and elem != '\\n':\n",
    "                new_lst.append(lst_down[lst_down.index(elem) + i])\n",
    "            elif elem == '\\n':\n",
    "                new_lst.append(elem)\n",
    "            elif elem in lst_up and elem != '\\n':\n",
    "                new_lst.append(lst_up[lst_up.index(elem) + i])       \n",
    "    with open(\"cipher_text.txt\", \"w\") as f1:\n",
    "        print(''.join(new_lst), file=f1)"
   ]
  },
  {
   "cell_type": "markdown",
   "id": "a0fc8493",
   "metadata": {},
   "source": [
    "# 7. Турнир"
   ]
  },
  {
   "cell_type": "code",
   "execution_count": 70,
   "id": "71392525",
   "metadata": {},
   "outputs": [],
   "source": [
    "lst = []\n",
    "d = dict()\n",
    "new_d = dict()\n",
    "count = 0\n",
    "with open(\"first_tour.txt\", \"r\") as f:\n",
    "    i = 0\n",
    "    for line in f:\n",
    "        if i == 0:\n",
    "            K = int(line)\n",
    "            i = 1\n",
    "        else:\n",
    "            lst = line.split()\n",
    "            name = lst[1][0] + '.' + lst[0]\n",
    "            point = int(lst[2])\n",
    "            d[name] = point\n",
    "    d = {elem: d[elem] for elem in sorted(d, key=d.get, reverse=True)}\n",
    "    for key, val in d.items():\n",
    "        if val > K:\n",
    "            new_d[key] = val\n",
    "            count += 1\n",
    "    with open(\"second_tour.txt\", \"w\") as f1:\n",
    "        print(count, file=f1)\n",
    "        for k, v in new_d.items():\n",
    "            print(k, v, file=f1)"
   ]
  },
  {
   "cell_type": "markdown",
   "id": "70b7cd2d",
   "metadata": {},
   "source": [
    "# 8. Частотный анализ"
   ]
  },
  {
   "cell_type": "code",
   "execution_count": 13,
   "id": "53ad97af",
   "metadata": {},
   "outputs": [],
   "source": [
    "d = dict()\n",
    "count = 0\n",
    "with open(\"my_text.txt\", \"r\") as f:\n",
    "    for line in f:\n",
    "        for elem in line.lower():\n",
    "            if elem.isalpha() == True:\n",
    "                if elem not in d:\n",
    "                    d[elem] = 1\n",
    "                else:\n",
    "                    d[elem] += 1 \n",
    "                count += 1\n",
    "with open(\"analysis.txt\", \"w\") as f1:\n",
    "    for item in sorted(sorted(d.items(), key=lambda x : x[0]), key=lambda x: x[1], reverse=True):\n",
    "        f1.write(f'{item[0]} {round(item[1] / 3, 3)}\\n')"
   ]
  },
  {
   "cell_type": "markdown",
   "id": "3a57cad3",
   "metadata": {},
   "source": [
    "# 9. Война и мир"
   ]
  },
  {
   "cell_type": "code",
   "execution_count": 18,
   "id": "a5ecc24c",
   "metadata": {},
   "outputs": [],
   "source": [
    "import zipfile\n",
    "\n",
    "d = dict()\n",
    "count = 0\n",
    "path = r'C:\\Projects\\Myznikova-python\\17-hw'\n",
    "archive = r'\\voyna-i-mir.zip'\n",
    "with zipfile.ZipFile(path + archive, 'r') as zip_file:\n",
    "    zip_file.extractall(path)\n",
    "    f = open(path + r'\\voyna-i-mir.txt', encoding='utf-8')\n",
    "    for line in f:\n",
    "        for elem in line:\n",
    "            if elem.isalpha() == True:\n",
    "                if elem not in d:\n",
    "                    d[elem] = 1\n",
    "                else:\n",
    "                    d[elem] += 1 \n",
    "                count += 1\n",
    "    f.close()\n",
    "with open(\"analysis_voyna.txt\", \"w\", encoding='utf-8') as f1:\n",
    "    for item in sorted(sorted(d.items(), key=lambda x : x[0]), key=lambda x: x[1], reverse=True):\n",
    "        f1.write(f'{item[0]} {round(item[1], 3)}\\n')"
   ]
  }
 ],
 "metadata": {
  "kernelspec": {
   "display_name": "Python 3 (ipykernel)",
   "language": "python",
   "name": "python3"
  },
  "language_info": {
   "codemirror_mode": {
    "name": "ipython",
    "version": 3
   },
   "file_extension": ".py",
   "mimetype": "text/x-python",
   "name": "python",
   "nbconvert_exporter": "python",
   "pygments_lexer": "ipython3",
   "version": "3.10.2"
  }
 },
 "nbformat": 4,
 "nbformat_minor": 5
}
