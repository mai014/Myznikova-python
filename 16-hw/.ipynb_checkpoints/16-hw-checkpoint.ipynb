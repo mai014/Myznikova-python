{
 "cells": [
  {
   "cell_type": "markdown",
   "id": "44675718",
   "metadata": {},
   "source": [
    "# 1. Challenge"
   ]
  },
  {
   "cell_type": "code",
   "execution_count": 5,
   "id": "f9ff0771",
   "metadata": {},
   "outputs": [
    {
     "name": "stdout",
     "output_type": "stream",
     "text": [
      "Введите число: 5\n",
      "1,2,3,4,5\n"
     ]
    }
   ],
   "source": [
    "def generator(N):\n",
    "    my_list = [i for i in range (1, N + 1)]\n",
    "    my_str = ' '.join(str(num) for num in my_list)\n",
    "    return my_str\n",
    "\n",
    "\n",
    "n = int(input('Введите число: '))\n",
    "print(generator(n))"
   ]
  },
  {
   "cell_type": "markdown",
   "id": "02eac25c",
   "metadata": {},
   "source": [
    "# 2. Свой zip"
   ]
  },
  {
   "cell_type": "code",
   "execution_count": 23,
   "id": "2193d0a0",
   "metadata": {},
   "outputs": [
    {
     "name": "stdout",
     "output_type": "stream",
     "text": [
      "[(1, 'f'), (2, 4), ('g', '*'), ('^', -3.9)]\n"
     ]
    }
   ],
   "source": [
    "def newzip(obj1, obj2):\n",
    "    new_lst = [*obj1, *obj2]\n",
    "    super_new_lst = [(new_lst[i], new_lst[i+len(new_lst)//2]) for i in range(0, len(new_lst)//2)]\n",
    "    return super_new_lst\n",
    "\n",
    "\n",
    "my_str = 'abcd'\n",
    "my_lst = ['f', 4, '*', -3.9]\n",
    "my_tpl = (1, 2, 'g', '^')\n",
    "my_set = {'Nastya', 2, '!', 'hehe'}\n",
    "print(newzip(my_tpl, my_lst))"
   ]
  },
  {
   "cell_type": "markdown",
   "id": "762354aa",
   "metadata": {},
   "source": [
    "# 3. Ряд Фибоначчи"
   ]
  },
  {
   "cell_type": "code",
   "execution_count": 12,
   "id": "04901910",
   "metadata": {},
   "outputs": [
    {
     "name": "stdout",
     "output_type": "stream",
     "text": [
      "Введите позицию числа в ряде Фибоначчи: 10\n",
      "Число: 55\n"
     ]
    }
   ],
   "source": [
    "def num_pos(n):\n",
    "    a, b = 1, 1\n",
    "    for _ in range(n - 2):\n",
    "        a_time = a\n",
    "        a = b\n",
    "        b += a_time\n",
    "    return b\n",
    "\n",
    "\n",
    "place = int(input('Введите позицию числа в ряде Фибоначчи: '))\n",
    "print('Число:', num_pos(place))"
   ]
  },
  {
   "cell_type": "markdown",
   "id": "99a62b98",
   "metadata": {},
   "source": [
    "# 4. Поиск элементов"
   ]
  },
  {
   "cell_type": "code",
   "execution_count": 10,
   "id": "f71beb6a",
   "metadata": {},
   "outputs": [
    {
     "name": "stdout",
     "output_type": "stream",
     "text": [
      "Введите ключ: head\n",
      "Его значение: {'title': 'Мой сайт'}\n"
     ]
    }
   ],
   "source": [
    "site = {\n",
    "    'html': {\n",
    "        'head': {\n",
    "            'title': 'Мой сайт'\n",
    "        },\n",
    "        'body': {\n",
    "            'h2': 'Здесь будет мой заголовок',\n",
    "            'div': 'Тут, наверное, какой-то блок',\n",
    "            'p': 'А вот здесь новый абзац'\n",
    "        }\n",
    "    }\n",
    "}\n",
    "\n",
    "\n",
    "def search(dct, key):\n",
    "    if key in dct:\n",
    "        print('Его значение:', dct[key])\n",
    "    for val in dct.values():\n",
    "        if isinstance(val, dict):\n",
    "            search(val, key)\n",
    "\n",
    "\n",
    "k = input('Введите ключ: ')\n",
    "search(site, k)"
   ]
  },
  {
   "cell_type": "markdown",
   "id": "ba24ff54",
   "metadata": {},
   "source": [
    "# 5. Ускоряем работу функции"
   ]
  },
  {
   "cell_type": "code",
   "execution_count": 27,
   "id": "b47f19e6",
   "metadata": {},
   "outputs": [
    {
     "name": "stdout",
     "output_type": "stream",
     "text": [
      "Введите число: 9\n",
      "Результат: 9.340175693050364e+26\n"
     ]
    }
   ],
   "source": [
    "def calculating_math_func(data):\n",
    "    if data in fact:\n",
    "        result = fact[data]\n",
    "    else:\n",
    "        result = max(fact.values())\n",
    "        for index in range(max(fact.keys()) + 1, data + 1):\n",
    "            result *= index\n",
    "            fact[index] = result\n",
    "    result /= data ** 3\n",
    "    result = result ** 10\n",
    "    return result\n",
    "\n",
    "\n",
    "fact = {1: 1}\n",
    "n = int(input('Введите число: '))\n",
    "print('Результат:', calculating_math_func(n))"
   ]
  },
  {
   "cell_type": "markdown",
   "id": "399c2bb1",
   "metadata": {},
   "source": [
    "# 6. Глубокое копирование"
   ]
  },
  {
   "cell_type": "code",
   "execution_count": 12,
   "id": "df2b93a4",
   "metadata": {},
   "outputs": [
    {
     "name": "stdout",
     "output_type": "stream",
     "text": [
      "Введите кол-во сайтов: 2\n",
      "Введите название продукта: IPhone\n",
      "Сайт для IPhone :\n",
      "{'html': {'head': {'title': 'Куплю/продам IPhone недорого'}, 'body': {'h2': 'У нас самая низкая цена на IPhone', 'div': 'Купить', 'p': 'Продать'}}}\n",
      "Введите название продукта: Samsung\n",
      "Сайт для Samsung :\n",
      "{'html': {'head': {'title': 'Куплю/продам Samsung недорого'}, 'body': {'h2': 'У нас самая низкая цена на Samsung', 'div': 'Купить', 'p': 'Продать'}}}\n"
     ]
    }
   ],
   "source": [
    "site = {\n",
    "    'html': {\n",
    "        'head': {\n",
    "            'title': 'Куплю/продам телефон недорого'\n",
    "        },\n",
    "        'body': {\n",
    "            'h2': 'У нас самая низкая цена на телефон',\n",
    "            'div': 'Купить',\n",
    "            'p': 'Продать'\n",
    "        }\n",
    "    }\n",
    "}\n",
    "\n",
    "\n",
    "def constructor(d, k, v):\n",
    "    if k in d:\n",
    "        d[k] = v\n",
    "        return d\n",
    "    for val in d.values():\n",
    "        if isinstance(val, dict):\n",
    "            constructor(val, k, v)\n",
    "\n",
    "            \n",
    "key_1 = 'title'\n",
    "key_2 = 'h2'\n",
    "n = int(input('Введите кол-во сайтов: '))\n",
    "for _ in range(0, n):\n",
    "    name = input('Введите название продукта: ')\n",
    "    new_dict = {key_1: f'Куплю/продам {name} недорого', key_2: f'У нас самая низкая цена на {name}'}\n",
    "    for i in new_dict:\n",
    "        constructor(site, i, new_dict[i])\n",
    "    print('Сайт для', name, ':')\n",
    "    print(site)\n",
    "    "
   ]
  },
  {
   "cell_type": "markdown",
   "id": "812bf55f",
   "metadata": {},
   "source": [
    "# 7. Продвинутая функция sum"
   ]
  },
  {
   "cell_type": "code",
   "execution_count": 1,
   "id": "21d139a2",
   "metadata": {},
   "outputs": [
    {
     "name": "stdout",
     "output_type": "stream",
     "text": [
      "10\n",
      "25\n"
     ]
    }
   ],
   "source": [
    "def perfect_sum_list(obj, new_lst):\n",
    "    if isinstance(obj, list):\n",
    "        for elem in obj:\n",
    "            perfect_sum_list(elem, new_lst)\n",
    "    else:\n",
    "        new_lst.append(obj)\n",
    "    return new_lst\n",
    "    \n",
    "\n",
    "def perfect_sum_tuple(obj, new_lst):\n",
    "    if isinstance(obj, tuple):\n",
    "        for elem in obj:\n",
    "            perfect_sum_tuple(elem, new_lst)\n",
    "    else:\n",
    "        new_lst.append(obj)     \n",
    "    return new_lst\n",
    "    \n",
    "    \n",
    "sum_init = 0\n",
    "time_list = []\n",
    "print(sum(perfect_sum_list([[1, 2, [3]], [1], 3], time_list)))\n",
    "print(sum(perfect_sum_tuple((1, (2), (3, 4), 5), time_list)))"
   ]
  },
  {
   "cell_type": "markdown",
   "id": "aef8ac62",
   "metadata": {},
   "source": [
    "# 8. Список списков"
   ]
  },
  {
   "cell_type": "code",
   "execution_count": 21,
   "id": "a2a8d4c8",
   "metadata": {},
   "outputs": [
    {
     "name": "stdout",
     "output_type": "stream",
     "text": [
      "[1, 2, 3, 4, 5, 6, 7, 8, 9, 10, 11, 12, 13, 14, 15, 16, 17, 18]\n"
     ]
    }
   ],
   "source": [
    "def reparing(lst, new_lst):\n",
    "    if isinstance(lst, list):\n",
    "        for elem in lst:\n",
    "            reparing(elem, new_lst)\n",
    "    else:\n",
    "        new_lst.append(lst)\n",
    "    return new_lst\n",
    "\n",
    "\n",
    "nice_list = [1, 2, [3, 4], [[5, 6, 7], [8, 9, 10]], [[11, 12, 13], [14, 15], [16, 17, 18]]]\n",
    "time_list = []\n",
    "print(reparing(nice_list, time_list))"
   ]
  },
  {
   "cell_type": "markdown",
   "id": "c6e1b1f3",
   "metadata": {},
   "source": [
    "# 9. Ханойские башни "
   ]
  },
  {
   "cell_type": "code",
   "execution_count": 1,
   "id": "31dff817",
   "metadata": {},
   "outputs": [
    {
     "name": "stdout",
     "output_type": "stream",
     "text": [
      "Введите число дисков: 2\n",
      "Переложить диск 1 со стержня 1 на стержень 2\n",
      "Переложить диск 2 со стержня 1 на стержень 3\n",
      "Переложить диск 1 со стержня 2 на стержень 3\n"
     ]
    }
   ],
   "source": [
    "def Hanoi(N, start, stop):\n",
    "    if N <= 0: return\n",
    "    temp = 6 - start - stop\n",
    "    Hanoi(N-1, start, temp)\n",
    "    print('Переложить диск', N, 'со стержня', start, 'на стержень', stop)\n",
    "    Hanoi(N-1, temp, stop)\n",
    "    \n",
    "    \n",
    "n = int(input('Введите число дисков: '))\n",
    "Hanoi(n, 1, 3)"
   ]
  }
 ],
 "metadata": {
  "kernelspec": {
   "display_name": "Python 3 (ipykernel)",
   "language": "python",
   "name": "python3"
  },
  "language_info": {
   "codemirror_mode": {
    "name": "ipython",
    "version": 3
   },
   "file_extension": ".py",
   "mimetype": "text/x-python",
   "name": "python",
   "nbconvert_exporter": "python",
   "pygments_lexer": "ipython3",
   "version": "3.10.2"
  }
 },
 "nbformat": 4,
 "nbformat_minor": 5
}
