{
 "cells": [
  {
   "cell_type": "markdown",
   "id": "02c7357e",
   "metadata": {},
   "source": [
    "# 1. Имена"
   ]
  },
  {
   "cell_type": "code",
   "execution_count": 64,
   "id": "e7512dc5",
   "metadata": {},
   "outputs": [],
   "source": [
    "file = open('people.txt', 'r')\n",
    "f2 = open('errors.log.txt', 'w', encoding='utf-8')\n",
    "i = 0\n",
    "for line in file:\n",
    "    i += 1\n",
    "    try: \n",
    "        if  len(line) < 4:\n",
    "            raise Exception(f'Длина {i} строки меньше трёх!')\n",
    "    except Exception as error:\n",
    "        f2.write(str(error) + '\\n') \n",
    "f2.close()\n",
    "file.close()"
   ]
  },
  {
   "cell_type": "markdown",
   "id": "60753295",
   "metadata": {},
   "source": [
    "# 2. Координаты"
   ]
  },
  {
   "cell_type": "code",
   "execution_count": 23,
   "id": "f058a028",
   "metadata": {},
   "outputs": [],
   "source": [
    "import random\n",
    "\n",
    "\n",
    "def f(x, y):\n",
    "    x += random.randint(0, 10)\n",
    "    y += random.randint(0, 5)\n",
    "    return x / y\n",
    "\n",
    "\n",
    "def f2(x, y):\n",
    "    x -= random.randint(0, 10)\n",
    "    y -= random.randint(0, 5)\n",
    "    return y / x\n",
    "\n",
    "\n",
    "try:\n",
    "    file = open('coordinates.txt', 'r')\n",
    "    file_2 = open('result.txt', 'w')\n",
    "    for line in file:\n",
    "        nums_list = line.split()\n",
    "        res1 = f(int(nums_list[0]), int(nums_list[1])) \n",
    "        res2 = f2(int(nums_list[0]), int(nums_list[1]))\n",
    "        number = random.randint(0, 100)\n",
    "        my_list = sorted([res1, res2, number])\n",
    "        my_str = ''\n",
    "        for elem in my_list:\n",
    "            my_str += str(elem)\n",
    "            my_str += ' '\n",
    "        file_2.write(my_str)\n",
    "except Exception:\n",
    "    print('Что-то пошло не так!')\n",
    "finally:\n",
    "    file.close()\n",
    "    file_2.close()"
   ]
  },
  {
   "cell_type": "markdown",
   "id": "de09f1a5",
   "metadata": {},
   "source": [
    "# 3. Счастливое число"
   ]
  },
  {
   "cell_type": "code",
   "execution_count": 25,
   "id": "bfdb876d",
   "metadata": {},
   "outputs": [
    {
     "name": "stdout",
     "output_type": "stream",
     "text": [
      "Введите число: 100\n",
      "Введите число: 200\n",
      "Введите число: 200\n",
      "Введите число: 200\n",
      "Введите число: 77\n",
      "Введите число: 1\n"
     ]
    }
   ],
   "source": [
    "import random\n",
    "\n",
    "errors = ['BaseException', 'FileNotFoundError', 'ZeroDivisionError']\n",
    "summ = 0\n",
    "with open('file.txt', 'w') as f:\n",
    "    while summ <= 777:\n",
    "        num = int(input('Введите число: '))\n",
    "        summ += num\n",
    "        if 13 == random.randint(1, 13):\n",
    "            raise Exception(random.choice(errors))\n",
    "        print(num, file=f)"
   ]
  },
  {
   "cell_type": "markdown",
   "id": "10d1e78b",
   "metadata": {},
   "source": [
    "# 4. Регистрация"
   ]
  },
  {
   "cell_type": "code",
   "execution_count": 69,
   "id": "b5a3442b",
   "metadata": {},
   "outputs": [],
   "source": [
    "def check(my_line):\n",
    "    my_lst = my_line.split()\n",
    "    if len(my_lst) < 3:\n",
    "        raise ValueError\n",
    "    else:\n",
    "        name, email, age = my_line.split()\n",
    "        age = int(age)\n",
    "        if name.isalpha() == False:\n",
    "            raise NameError\n",
    "        elif age < 10 or age > 99:\n",
    "            raise ValueError\n",
    "        if '@' not in email and '.' not in email:\n",
    "            raise SyntaxError\n",
    "    return my_line\n",
    "\n",
    "\n",
    "bad = open('registrations_bad.log ', 'w', encoding='utf-8')\n",
    "good =  open('registrations_good.log ', 'w', encoding='utf-8')\n",
    "with open('registrations.txt', mode='r', encoding='utf-8') as file:\n",
    "    for line in file:\n",
    "        try:\n",
    "            check(line)\n",
    "        except ValueError:\n",
    "            bad.write(line)\n",
    "        except NameError:\n",
    "            bad.write(line)\n",
    "        except SyntaxError:\n",
    "            bad.write(line)\n",
    "        else:\n",
    "            good.write(line)\n",
    "bad.close()\n",
    "good.close()"
   ]
  },
  {
   "cell_type": "markdown",
   "id": "3486ffda",
   "metadata": {},
   "source": [
    "# 5. Текстовый калькулятор"
   ]
  },
  {
   "cell_type": "code",
   "execution_count": 101,
   "id": "556454b1",
   "metadata": {},
   "outputs": [
    {
     "name": "stdout",
     "output_type": "stream",
     "text": [
      "2 строка: invalid literal for int() with base 10: 'j'\n",
      "3 строка: *= не является оператором!\n",
      "5 строка: division by zero\n",
      "Результат: 226\n"
     ]
    }
   ],
   "source": [
    "result = 0\n",
    "oper = ['-', '+', '*', '**', '/', '//', '%']\n",
    "i = 0\n",
    "try:\n",
    "    file = open('calc.txt', 'r')\n",
    "    for line in file:\n",
    "        i += 1\n",
    "        num1, op, num2 = line.split()\n",
    "        try:\n",
    "            if op not in oper:\n",
    "                raise Exception(f'{op} не является оператором!')\n",
    "            num1, num2 = int(num1), int(num2)\n",
    "            result += int(eval(line))\n",
    "        except Exception as exc:\n",
    "            print(i, 'строка:', exc)    \n",
    "        except ValueError as v:\n",
    "            print(v, 'строка:', exc)\n",
    "        except NameError as n:   \n",
    "            print(i, 'строка:',n)\n",
    "except FileNotFoundError:\n",
    "    print('Файл не найден!')\n",
    "finally:\n",
    "    print('Результат:', result)\n",
    "    file.close()"
   ]
  },
  {
   "cell_type": "markdown",
   "id": "3c3c4a69",
   "metadata": {},
   "source": [
    "# 6. Чат"
   ]
  },
  {
   "cell_type": "code",
   "execution_count": 112,
   "id": "8375efa5",
   "metadata": {},
   "outputs": [
    {
     "name": "stdout",
     "output_type": "stream",
     "text": [
      "Ваше имя: Настя\n",
      "Чтобы посмотреть текущий текст чата, нажмите 1. Чтобы отправить сообщение, нажмите 2: 1\n",
      "Чат пуст!\n",
      "Ваше имя: Настя\n",
      "Чтобы посмотреть текущий текст чата, нажмите 1. Чтобы отправить сообщение, нажмите 2: 2\n",
      "Введите сообщение: Как всё надоело\n",
      "Ваше имя: Ксюша\n",
      "Чтобы посмотреть текущий текст чата, нажмите 1. Чтобы отправить сообщение, нажмите 2: 2\n",
      "Введите сообщение: Согласна\n",
      "Ваше имя: Полина\n",
      "Чтобы посмотреть текущий текст чата, нажмите 1. Чтобы отправить сообщение, нажмите 2: 2\n",
      "Введите сообщение: Пошли пить пиво\n",
      "Ваше имя: Настя Т.\n",
      "Чтобы посмотреть текущий текст чата, нажмите 1. Чтобы отправить сообщение, нажмите 2: 1\n",
      "Настя : Как всё надоело \n",
      "\n",
      "Ксюша : Согласна \n",
      "\n",
      "Полина : Пошли пить пиво \n",
      "\n"
     ]
    },
    {
     "ename": "KeyboardInterrupt",
     "evalue": "Interrupted by user",
     "output_type": "error",
     "traceback": [
      "\u001b[1;31m---------------------------------------------------------------------------\u001b[0m",
      "\u001b[1;31mKeyboardInterrupt\u001b[0m                         Traceback (most recent call last)",
      "Input \u001b[1;32mIn [112]\u001b[0m, in \u001b[0;36m<cell line: 2>\u001b[1;34m()\u001b[0m\n\u001b[0;32m      1\u001b[0m num \u001b[38;5;241m=\u001b[39m [\u001b[38;5;241m1\u001b[39m, \u001b[38;5;241m2\u001b[39m]\n\u001b[0;32m      2\u001b[0m \u001b[38;5;28;01mwhile\u001b[39;00m \u001b[38;5;28;01mTrue\u001b[39;00m:\n\u001b[1;32m----> 3\u001b[0m     user \u001b[38;5;241m=\u001b[39m \u001b[38;5;28;43minput\u001b[39;49m\u001b[43m(\u001b[49m\u001b[38;5;124;43m'\u001b[39;49m\u001b[38;5;124;43mВаше имя: \u001b[39;49m\u001b[38;5;124;43m'\u001b[39;49m\u001b[43m)\u001b[49m\n\u001b[0;32m      4\u001b[0m     \u001b[38;5;28mprint\u001b[39m(\u001b[38;5;124m'\u001b[39m\u001b[38;5;124mЧтобы посмотреть текущий текст чата, нажмите 1. Чтобы отправить сообщение, нажмите 2: \u001b[39m\u001b[38;5;124m'\u001b[39m, end\u001b[38;5;241m=\u001b[39m\u001b[38;5;124m'\u001b[39m\u001b[38;5;124m'\u001b[39m)\n\u001b[0;32m      5\u001b[0m     \u001b[38;5;28;01mtry\u001b[39;00m:\n",
      "File \u001b[1;32mC:\\Python3\\lib\\site-packages\\ipykernel\\kernelbase.py:1159\u001b[0m, in \u001b[0;36mKernel.raw_input\u001b[1;34m(self, prompt)\u001b[0m\n\u001b[0;32m   1155\u001b[0m \u001b[38;5;28;01mif\u001b[39;00m \u001b[38;5;129;01mnot\u001b[39;00m \u001b[38;5;28mself\u001b[39m\u001b[38;5;241m.\u001b[39m_allow_stdin:\n\u001b[0;32m   1156\u001b[0m     \u001b[38;5;28;01mraise\u001b[39;00m StdinNotImplementedError(\n\u001b[0;32m   1157\u001b[0m         \u001b[38;5;124m\"\u001b[39m\u001b[38;5;124mraw_input was called, but this frontend does not support input requests.\u001b[39m\u001b[38;5;124m\"\u001b[39m\n\u001b[0;32m   1158\u001b[0m     )\n\u001b[1;32m-> 1159\u001b[0m \u001b[38;5;28;01mreturn\u001b[39;00m \u001b[38;5;28;43mself\u001b[39;49m\u001b[38;5;241;43m.\u001b[39;49m\u001b[43m_input_request\u001b[49m\u001b[43m(\u001b[49m\n\u001b[0;32m   1160\u001b[0m \u001b[43m    \u001b[49m\u001b[38;5;28;43mstr\u001b[39;49m\u001b[43m(\u001b[49m\u001b[43mprompt\u001b[49m\u001b[43m)\u001b[49m\u001b[43m,\u001b[49m\n\u001b[0;32m   1161\u001b[0m \u001b[43m    \u001b[49m\u001b[38;5;28;43mself\u001b[39;49m\u001b[38;5;241;43m.\u001b[39;49m\u001b[43m_parent_ident\u001b[49m\u001b[43m[\u001b[49m\u001b[38;5;124;43m\"\u001b[39;49m\u001b[38;5;124;43mshell\u001b[39;49m\u001b[38;5;124;43m\"\u001b[39;49m\u001b[43m]\u001b[49m\u001b[43m,\u001b[49m\n\u001b[0;32m   1162\u001b[0m \u001b[43m    \u001b[49m\u001b[38;5;28;43mself\u001b[39;49m\u001b[38;5;241;43m.\u001b[39;49m\u001b[43mget_parent\u001b[49m\u001b[43m(\u001b[49m\u001b[38;5;124;43m\"\u001b[39;49m\u001b[38;5;124;43mshell\u001b[39;49m\u001b[38;5;124;43m\"\u001b[39;49m\u001b[43m)\u001b[49m\u001b[43m,\u001b[49m\n\u001b[0;32m   1163\u001b[0m \u001b[43m    \u001b[49m\u001b[43mpassword\u001b[49m\u001b[38;5;241;43m=\u001b[39;49m\u001b[38;5;28;43;01mFalse\u001b[39;49;00m\u001b[43m,\u001b[49m\n\u001b[0;32m   1164\u001b[0m \u001b[43m\u001b[49m\u001b[43m)\u001b[49m\n",
      "File \u001b[1;32mC:\\Python3\\lib\\site-packages\\ipykernel\\kernelbase.py:1201\u001b[0m, in \u001b[0;36mKernel._input_request\u001b[1;34m(self, prompt, ident, parent, password)\u001b[0m\n\u001b[0;32m   1198\u001b[0m             \u001b[38;5;28;01mbreak\u001b[39;00m\n\u001b[0;32m   1199\u001b[0m \u001b[38;5;28;01mexcept\u001b[39;00m \u001b[38;5;167;01mKeyboardInterrupt\u001b[39;00m:\n\u001b[0;32m   1200\u001b[0m     \u001b[38;5;66;03m# re-raise KeyboardInterrupt, to truncate traceback\u001b[39;00m\n\u001b[1;32m-> 1201\u001b[0m     \u001b[38;5;28;01mraise\u001b[39;00m \u001b[38;5;167;01mKeyboardInterrupt\u001b[39;00m(\u001b[38;5;124m\"\u001b[39m\u001b[38;5;124mInterrupted by user\u001b[39m\u001b[38;5;124m\"\u001b[39m) \u001b[38;5;28;01mfrom\u001b[39;00m \u001b[38;5;28mNone\u001b[39m\n\u001b[0;32m   1202\u001b[0m \u001b[38;5;28;01mexcept\u001b[39;00m \u001b[38;5;167;01mException\u001b[39;00m:\n\u001b[0;32m   1203\u001b[0m     \u001b[38;5;28mself\u001b[39m\u001b[38;5;241m.\u001b[39mlog\u001b[38;5;241m.\u001b[39mwarning(\u001b[38;5;124m\"\u001b[39m\u001b[38;5;124mInvalid Message:\u001b[39m\u001b[38;5;124m\"\u001b[39m, exc_info\u001b[38;5;241m=\u001b[39m\u001b[38;5;28;01mTrue\u001b[39;00m)\n",
      "\u001b[1;31mKeyboardInterrupt\u001b[0m: Interrupted by user"
     ]
    }
   ],
   "source": [
    "num = [1, 2]\n",
    "while True:\n",
    "    user = input('Ваше имя: ')\n",
    "    print('Чтобы посмотреть текущий текст чата, нажмите 1. Чтобы отправить сообщение, нажмите 2: ', end='')\n",
    "    try:\n",
    "        command = int(input())\n",
    "        if command not in num:\n",
    "            raise Exception('Неправильная команда!')\n",
    "    except ValueError:\n",
    "        print('Неправильная команда!')\n",
    "    if command == 1:\n",
    "        try:\n",
    "            with open('chat.txt', 'r', encoding='utf-8') as file:\n",
    "                for line in file:\n",
    "                    print(line)\n",
    "        except FileNotFoundError:\n",
    "            print('Чат пуст!')   \n",
    "    if command == 2:\n",
    "        message = input('Введите сообщение: ')\n",
    "        with open('chat.txt', 'a', encoding='utf-8') as file:\n",
    "            file.write(f'{user} : {message} \\n')"
   ]
  },
  {
   "cell_type": "markdown",
   "id": "8236bbe5",
   "metadata": {},
   "source": [
    "# 7. Текстовый калькулятор 2"
   ]
  },
  {
   "cell_type": "code",
   "execution_count": 120,
   "id": "9533f15c",
   "metadata": {},
   "outputs": [
    {
     "name": "stdout",
     "output_type": "stream",
     "text": [
      "Обнаружена ошибка в строке: j - 2\n",
      "Хотите исправить? да\n",
      "Введите исправленную строку: 3 - 2\n",
      "Обнаружена ошибка в строке: 25 *= 2\n",
      "Хотите исправить? да\n",
      "Введите исправленную строку: 25 * 2\n",
      "Обнаружена ошибка в строке: 80 / 0\n",
      "Хотите исправить? да\n",
      "Введите исправленную строку: 80 / 2\n",
      "Результат:  317\n"
     ]
    }
   ],
   "source": [
    "result = 0\n",
    "with open('calc.txt', 'r') as file:\n",
    "    for line in file:\n",
    "        try:\n",
    "            result += int(eval(line))\n",
    "        except:\n",
    "            print(f'Обнаружена ошибка в строке: {line}Хотите исправить? ', end='')\n",
    "            if input() == 'да':                \n",
    "                new_line = input('Введите исправленную строку: ')\n",
    "                result += int(eval(new_line))\n",
    "print('Результат: ', result)"
   ]
  }
 ],
 "metadata": {
  "kernelspec": {
   "display_name": "Python 3 (ipykernel)",
   "language": "python",
   "name": "python3"
  },
  "language_info": {
   "codemirror_mode": {
    "name": "ipython",
    "version": 3
   },
   "file_extension": ".py",
   "mimetype": "text/x-python",
   "name": "python",
   "nbconvert_exporter": "python",
   "pygments_lexer": "ipython3",
   "version": "3.10.2"
  }
 },
 "nbformat": 4,
 "nbformat_minor": 5
}
