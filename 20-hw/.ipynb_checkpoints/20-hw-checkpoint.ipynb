{
 "cells": [
  {
   "cell_type": "markdown",
   "id": "deff5971",
   "metadata": {},
   "source": [
    "# 1. Налоги"
   ]
  },
  {
   "cell_type": "code",
   "execution_count": 2,
   "id": "24dcf74a",
   "metadata": {},
   "outputs": [
    {
     "name": "stdout",
     "output_type": "stream",
     "text": [
      "Всего денег: 15000\n",
      "Стоимость квартиры: 2000000\n",
      "Стоимость машины: 1000000\n",
      "Стоимость дома: 3000000\n",
      "Денег хватает\n"
     ]
    }
   ],
   "source": [
    "class Property:\n",
    "    \n",
    "    def __init__(self, worth):\n",
    "        self.worth = worth\n",
    "    \n",
    "    def tax(self):\n",
    "        pass\n",
    "\n",
    "class Apartment(Property):\n",
    "    \n",
    "    def __init__(self, worth):\n",
    "        super().__init__(worth)\n",
    "    \n",
    "    def tax(self):\n",
    "        return self.worth / 1000\n",
    "    \n",
    "class Car(Property):\n",
    "    \n",
    "    def __init__(self, worth):\n",
    "        super().__init__(worth)\n",
    "        \n",
    "    def tax(self):\n",
    "        return self.worth / 200\n",
    "    \n",
    "class CountryHouse(Property):\n",
    "\n",
    "    def __init__(self, worth):\n",
    "        super().__init__(worth)\n",
    "        \n",
    "    def tax(self):\n",
    "        return self.worth / 500\n",
    "\n",
    "    \n",
    "money = int(input('Всего денег: '))\n",
    "worth_apart = int(input('Стоимость квартиры: '))\n",
    "apart = Apartment(worth_apart)\n",
    "worth_car = int(input('Стоимость машины: '))\n",
    "car = Apartment(worth_car)\n",
    "worth_house = int(input('Стоимость дома: '))\n",
    "house = Apartment(worth_house)\n",
    "if money < apart.tax() + car.tax() + house.tax():\n",
    "    print('Денег не хватает.')\n",
    "else:\n",
    "    print('Денег хватает.')"
   ]
  },
  {
   "cell_type": "markdown",
   "id": "86db351e",
   "metadata": {},
   "source": [
    "# 2. Карма"
   ]
  },
  {
   "cell_type": "code",
   "execution_count": 6,
   "id": "fabb44e1",
   "metadata": {},
   "outputs": [
    {
     "name": "stdout",
     "output_type": "stream",
     "text": [
      "Просветление!\n"
     ]
    }
   ],
   "source": [
    "import random\n",
    "\n",
    "class Buddhist:\n",
    "    \n",
    "    def __init__(self, karma = 0):\n",
    "        self.__karma = karma\n",
    "    \n",
    "    def get_karma(self):\n",
    "        return self.__karma\n",
    "    \n",
    "    def set_karma(self, new_karma):\n",
    "        self.__karma += new_karma\n",
    "        \n",
    "def one_day(day):\n",
    "    if 1 == random.randint(1, 10):\n",
    "        with open('karma.log', 'a') as file:\n",
    "            exc = random.choice(['KillError', 'DrunkError', 'CarCrashError', 'GluttonyError', 'DepressionError'])\n",
    "            file.write(f'День {day}: случился {exc}\\n')\n",
    "        return 0\n",
    "    else:\n",
    "        return random.randint(1, 7)\n",
    "    \n",
    "buddhist = Buddhist()\n",
    "n = 0\n",
    "while buddhist.get_karma() < 500:\n",
    "    n += 1\n",
    "    buddhist.set_karma(one_day(n))\n",
    "print('Просветление!')"
   ]
  },
  {
   "cell_type": "markdown",
   "id": "283e0ff6",
   "metadata": {},
   "source": [
    "# 3. Свой словарь"
   ]
  },
  {
   "cell_type": "code",
   "execution_count": 7,
   "id": "43e736cc",
   "metadata": {},
   "outputs": [
    {
     "name": "stdout",
     "output_type": "stream",
     "text": [
      "1\n",
      "0\n"
     ]
    }
   ],
   "source": [
    "class MyDict:\n",
    "    \n",
    "    def __init__(self, d):\n",
    "        self.d = d\n",
    "      \n",
    "    def get(self, key, value=0):\n",
    "        if key in self.d:\n",
    "            return self.d[key]\n",
    "        else:\n",
    "            return value\n",
    "\n",
    "my_d = MyDict({'hehe': 1, 'haha': 2, 'hoho': 3})\n",
    "print(my_d.get('hehe'))\n",
    "print(my_d.get('huhu'))"
   ]
  },
  {
   "cell_type": "markdown",
   "id": "151e28f7",
   "metadata": {},
   "source": [
    "# 4. Компания"
   ]
  },
  {
   "cell_type": "code",
   "execution_count": 10,
   "id": "6f646b4f",
   "metadata": {},
   "outputs": [
    {
     "name": "stdout",
     "output_type": "stream",
     "text": [
      "Заработная плата девяти служащих: 954350.0\n"
     ]
    }
   ],
   "source": [
    "class Person:\n",
    "    \n",
    "    def __init__(self, name, surname, age):\n",
    "        self.__name, self.__surname, self.__age = name, surname, age\n",
    "        \n",
    "class Employee(Person):\n",
    "    \n",
    "    def __init__(self, name, surname, age):\n",
    "        super().__init__(name, surname, age)\n",
    "    \n",
    "    def count(self):\n",
    "        pass\n",
    "    \n",
    "class Manager(Employee):\n",
    "    \n",
    "    def __init__(self, name, surname, age):\n",
    "        super().__init__(name, surname, age)\n",
    "    \n",
    "    def count(self):\n",
    "        return 13000\n",
    "    \n",
    "class Agent(Employee):\n",
    "    \n",
    "    def __init__(self, name, surname, age, sales):\n",
    "        super().__init__(name, surname, age)\n",
    "        self.sales = sales\n",
    "    \n",
    "    def count(self):\n",
    "        return 5000 + 0.005 * self.sales\n",
    "    \n",
    "class Worker(Employee):\n",
    "    \n",
    "    def __init__(self, name, surname, age, hours):\n",
    "        super().__init__(name, surname, age)\n",
    "        self.hours = hours\n",
    "        \n",
    "    def count(self):\n",
    "        return 100 * self.hours\n",
    "\n",
    "\n",
    "manager1, manager2, manager3 = Manager('Иван', 'Иванов', 31), Manager('Пётр', 'Иванов', 29), Manager('Иван', 'Петров', 45)\n",
    "agent1, agent2, agent2 = Agent('Мария', 'Иванова', 28, 30000), Agent('Анна', 'Петрова', 36, 45000), Agent('Пётр', 'Петров', 40, 20000)\n",
    "worker1, worker2, worker3 = Worker('Александр', 'Иванов', 22, 2500), Worker('Алексей', 'Иванов', 25, 3000), Worker('Фёдор', 'Иванов', 21, 3500)\n",
    "lst = [manager1, manager2, manager3, agent1, agent2, agent2, worker1, worker2, worker3]\n",
    "total_sum = 0\n",
    "for elem in lst:\n",
    "    total_sum += elem.count()\n",
    "print('Заработная плата девяти служащих:', total_sum)"
   ]
  },
  {
   "cell_type": "markdown",
   "id": "893acacf",
   "metadata": {},
   "source": [
    "# 5. А-а-автомобиль!"
   ]
  },
  {
   "cell_type": "code",
   "execution_count": null,
   "id": "d9a82db4",
   "metadata": {},
   "outputs": [],
   "source": []
  }
 ],
 "metadata": {
  "kernelspec": {
   "display_name": "Python 3 (ipykernel)",
   "language": "python",
   "name": "python3"
  },
  "language_info": {
   "codemirror_mode": {
    "name": "ipython",
    "version": 3
   },
   "file_extension": ".py",
   "mimetype": "text/x-python",
   "name": "python",
   "nbconvert_exporter": "python",
   "pygments_lexer": "ipython3",
   "version": "3.10.2"
  }
 },
 "nbformat": 4,
 "nbformat_minor": 5
}
