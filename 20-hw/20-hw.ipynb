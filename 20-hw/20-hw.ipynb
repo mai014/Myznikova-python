{
 "cells": [
  {
   "cell_type": "markdown",
   "id": "deff5971",
   "metadata": {},
   "source": [
    "# 1. Налоги"
   ]
  },
  {
   "cell_type": "code",
   "execution_count": 2,
   "id": "24dcf74a",
   "metadata": {},
   "outputs": [
    {
     "name": "stdout",
     "output_type": "stream",
     "text": [
      "Всего денег: 15000\n",
      "Стоимость квартиры: 2000000\n",
      "Стоимость машины: 1000000\n",
      "Стоимость дома: 3000000\n",
      "Денег хватает\n"
     ]
    }
   ],
   "source": [
    "class Property:\n",
    "    \n",
    "    def __init__(self, worth):\n",
    "        self.worth = worth\n",
    "    \n",
    "    def tax(self):\n",
    "        pass\n",
    "\n",
    "class Apartment(Property):\n",
    "    \n",
    "    def __init__(self, worth):\n",
    "        super().__init__(worth)\n",
    "    \n",
    "    def tax(self):\n",
    "        return self.worth / 1000\n",
    "    \n",
    "class Car(Property):\n",
    "    \n",
    "    def __init__(self, worth):\n",
    "        super().__init__(worth)\n",
    "        \n",
    "    def tax(self):\n",
    "        return self.worth / 200\n",
    "    \n",
    "class CountryHouse(Property):\n",
    "\n",
    "    def __init__(self, worth):\n",
    "        super().__init__(worth)\n",
    "        \n",
    "    def tax(self):\n",
    "        return self.worth / 500\n",
    "\n",
    "    \n",
    "money = int(input('Всего денег: '))\n",
    "worth_apart = int(input('Стоимость квартиры: '))\n",
    "apart = Apartment(worth_apart)\n",
    "worth_car = int(input('Стоимость машины: '))\n",
    "car = Apartment(worth_car)\n",
    "worth_house = int(input('Стоимость дома: '))\n",
    "house = Apartment(worth_house)\n",
    "if money < apart.tax() + car.tax() + house.tax():\n",
    "    print('Денег не хватает.')\n",
    "else:\n",
    "    print('Денег хватает.')"
   ]
  },
  {
   "cell_type": "markdown",
   "id": "86db351e",
   "metadata": {},
   "source": [
    "# 2. Карма"
   ]
  },
  {
   "cell_type": "code",
   "execution_count": 22,
   "id": "fabb44e1",
   "metadata": {},
   "outputs": [
    {
     "name": "stdout",
     "output_type": "stream",
     "text": [
      "Просветление!\n"
     ]
    }
   ],
   "source": [
    "import random\n",
    "\n",
    "class Buddhist:\n",
    "    \n",
    "    def __init__(self, karma = 0):\n",
    "        self.__karma = karma\n",
    "    \n",
    "    def get_karma(self):\n",
    "        return self.__karma\n",
    "        \n",
    "    def one_day(self, day):\n",
    "        try:\n",
    "            if 1 == random.randint(1, 10):\n",
    "                random_exp = random.choice(['KillError', 'DrunkError', 'CarCrashError', 'GluttonyError', 'DepressionError'])\n",
    "                raise Exception(f'День {day}: случился {random_exp}')\n",
    "            else:\n",
    "                self.__karma += random.randint(1, 7)\n",
    "        except Exception as error:       \n",
    "            with open('karma.log', 'w', encoding='utf-8') as file:\n",
    "                file.write(str(error) + '\\n')\n",
    "        \n",
    "buddhist = Buddhist()\n",
    "n = 0\n",
    "while buddhist.get_karma() < 500:\n",
    "    n += 1\n",
    "    buddhist.one_day(n)\n",
    "print('Просветление!')"
   ]
  },
  {
   "cell_type": "markdown",
   "id": "283e0ff6",
   "metadata": {},
   "source": [
    "# 3. Свой словарь"
   ]
  },
  {
   "cell_type": "code",
   "execution_count": 7,
   "id": "43e736cc",
   "metadata": {},
   "outputs": [
    {
     "name": "stdout",
     "output_type": "stream",
     "text": [
      "1\n",
      "0\n"
     ]
    }
   ],
   "source": [
    "class MyDict:\n",
    "    \n",
    "    def __init__(self, d):\n",
    "        self.d = d\n",
    "      \n",
    "    def get(self, key, value=0):\n",
    "        if key in self.d:\n",
    "            return self.d[key]\n",
    "        else:\n",
    "            return value\n",
    "\n",
    "my_d = MyDict({'hehe': 1, 'haha': 2, 'hoho': 3})\n",
    "print(my_d.get('hehe'))\n",
    "print(my_d.get('huhu'))"
   ]
  },
  {
   "cell_type": "markdown",
   "id": "151e28f7",
   "metadata": {},
   "source": [
    "# 4. Компания"
   ]
  },
  {
   "cell_type": "code",
   "execution_count": 10,
   "id": "6f646b4f",
   "metadata": {},
   "outputs": [
    {
     "name": "stdout",
     "output_type": "stream",
     "text": [
      "Заработная плата девяти служащих: 954350.0\n"
     ]
    }
   ],
   "source": [
    "class Person:\n",
    "    \n",
    "    def __init__(self, name, surname, age):\n",
    "        self.__name, self.__surname, self.__age = name, surname, age\n",
    "\n",
    "        \n",
    "class Employee(Person):\n",
    "    \n",
    "    def __init__(self, name, surname, age):\n",
    "        super().__init__(name, surname, age)\n",
    "    \n",
    "    def count(self):\n",
    "        pass\n",
    "    \n",
    "\n",
    "class Manager(Employee):\n",
    "    \n",
    "    def __init__(self, name, surname, age):\n",
    "        super().__init__(name, surname, age)\n",
    "    \n",
    "    def count(self):\n",
    "        return 13000\n",
    "    \n",
    "    \n",
    "class Agent(Employee):\n",
    "    \n",
    "    def __init__(self, name, surname, age, sales):\n",
    "        super().__init__(name, surname, age)\n",
    "        self.sales = sales\n",
    "    \n",
    "    def count(self):\n",
    "        return 5000 + 0.005 * self.sales\n",
    "    \n",
    "    \n",
    "class Worker(Employee):\n",
    "    \n",
    "    def __init__(self, name, surname, age, hours):\n",
    "        super().__init__(name, surname, age)\n",
    "        self.hours = hours\n",
    "        \n",
    "    def count(self):\n",
    "        return 100 * self.hours\n",
    "\n",
    "\n",
    "manager1, manager2, manager3 = Manager('Иван', 'Иванов', 31), Manager('Пётр', 'Иванов', 29), Manager('Иван', 'Петров', 45)\n",
    "agent1, agent2, agent2 = Agent('Мария', 'Иванова', 28, 30000), Agent('Анна', 'Петрова', 36, 45000), Agent('Пётр', 'Петров', 40, 20000)\n",
    "worker1, worker2, worker3 = Worker('Александр', 'Иванов', 22, 2500), Worker('Алексей', 'Иванов', 25, 3000), Worker('Фёдор', 'Иванов', 21, 3500)\n",
    "lst = [manager1, manager2, manager3, agent1, agent2, agent2, worker1, worker2, worker3]\n",
    "total_sum = 0\n",
    "for elem in lst:\n",
    "    total_sum += elem.count()\n",
    "print('Заработная плата девяти служащих:', total_sum)"
   ]
  },
  {
   "cell_type": "markdown",
   "id": "893acacf",
   "metadata": {},
   "source": [
    "# 5. А-а-автомобиль!"
   ]
  },
  {
   "cell_type": "code",
   "execution_count": 3,
   "id": "d9a82db4",
   "metadata": {},
   "outputs": [
    {
     "name": "stdout",
     "output_type": "stream",
     "text": [
      "65\n"
     ]
    }
   ],
   "source": [
    "import numpy as np\n",
    "\n",
    "class Car:\n",
    "    \n",
    "    def __init__(self, x=0, y=0, angle=0):\n",
    "        self.x, self.y, self.angle = x, y, angle\n",
    "    \n",
    "    def move(self, r):\n",
    "        self.x += r * np.cos(self.angle)\n",
    "        self.y += r * np.sin(self.angle)\n",
    "        \n",
    "    def turn(self, alpha):\n",
    "        self.angle += alpha\n",
    "\n",
    "class Bus(Car):\n",
    "    \n",
    "    def __init__(self, x=0, y=0, angle=0, passengers=0, money=0):\n",
    "        super().__init__(x, y, angle)\n",
    "        self.passengers, self.money = passengers, money\n",
    "        \n",
    "    def enter(self, enter_pass):\n",
    "        self.passengers += enter_pass\n",
    "        \n",
    "    def exit(self, exit_pass):\n",
    "        self.passengers -= exit_pass\n",
    "        \n",
    "    def move(self, r):\n",
    "        super().move(r)\n",
    "        self.money += self.passengers * r\n",
    "        \n",
    "bus = Bus()\n",
    "bus.enter(7)\n",
    "bus.move(5)\n",
    "bus.exit(2)\n",
    "bus.turn(30)\n",
    "bus.move(6)\n",
    "print(bus.money)"
   ]
  },
  {
   "cell_type": "markdown",
   "id": "7dc101a5",
   "metadata": {},
   "source": [
    "# 6. Совместное проживание v2.0"
   ]
  },
  {
   "cell_type": "code",
   "execution_count": 41,
   "id": "ab69969c",
   "metadata": {},
   "outputs": [
    {
     "name": "stdout",
     "output_type": "stream",
     "text": [
      "Вася умер(ла).\n",
      "Маша купила 0 шуб, 300 заработано, 70 еды осталось.\n"
     ]
    }
   ],
   "source": [
    "class House:\n",
    "    \n",
    "    def __init__(self, money=100, food=50, feed=30, dirt=0):\n",
    "        self.money, self.food, self.feed, self.dirt = money, food, feed, dirt\n",
    "\n",
    "        \n",
    "class Human:\n",
    "    \n",
    "    def __init__(self, name, fullness, happiness):\n",
    "        self.name, self.fullness, self.happiness = name, fullness, happiness\n",
    "        \n",
    "    def pet(self):\n",
    "        self.happiness += 5\n",
    "        self.fullness -= 10\n",
    "    \n",
    "    def eat(self, house):\n",
    "        self.fullness += 1\n",
    "        house.food -= 30\n",
    "        \n",
    "        \n",
    "class Man(Human):\n",
    "    \n",
    "    def __init__(self, name, fullness=30, happinnes=100):\n",
    "        super().__init__( name, fullness, happinnes)\n",
    "        \n",
    "    def work(self, house):\n",
    "        house.money += 150\n",
    "        self.fullness -= 10\n",
    "    \n",
    "    def play(self):\n",
    "        self.happiness += 20\n",
    "        self.fullness -= 10\n",
    "        \n",
    "class Woman(Human):\n",
    "    \n",
    "    def __init__(self, name, fullness=30, happinnes=100):\n",
    "        super().__init__( name, fullness, happinnes)\n",
    "    \n",
    "    def shop(self, house, n):\n",
    "        self.fullness -= 10\n",
    "        house.money -= 2 * n\n",
    "        house.food += n\n",
    "        house.feed += n\n",
    "    \n",
    "    def buy_fur(self, house):\n",
    "        self.fullness -= 10\n",
    "        house.money -= 350\n",
    "        self.happiness += 60\n",
    "        \n",
    "    def clean(self, house):\n",
    "        if house.dirt > 100:\n",
    "            house.dirt -= 100\n",
    "        else:\n",
    "            house.dirt == 0\n",
    "        \n",
    "        \n",
    "class Cat:\n",
    "    \n",
    "    def __init__(self, name, fullness=30):\n",
    "        self.name, self.fullness = name, fullness\n",
    "     \n",
    "    def eat(self, house):\n",
    "        house.feed -= 1\n",
    "        self.fullness += 20\n",
    "        \n",
    "    def sleep(self):\n",
    "        self.fullness -= 10\n",
    "        \n",
    "    def damage(self, house):\n",
    "        house.dirt += 5\n",
    "        self.fullness -= 10\n",
    "        \n",
    "\n",
    "home = House()\n",
    "man, woman, cat = Man('Вася'), Woman('Маша'), Cat('Барсик')\n",
    "fur = 0\n",
    "for day in range(1, 366):\n",
    "    home.dirt += 5\n",
    "    if man.fullness < 0 or man.happiness < 10:\n",
    "        print(f'{man.name} умер(ла).')\n",
    "        break\n",
    "    if woman.fullness < 0 or woman.happiness < 10:\n",
    "        print(f'{woman.name} умер(ла).')\n",
    "        break\n",
    "    if cat.fullness < 0:\n",
    "        print(f'{cat.name} умер.')\n",
    "        break\n",
    "    if home.dirt > 90: \n",
    "        man.happiness -= 10    \n",
    "        woman.happiness -= 10\n",
    "        woman.clean(home)\n",
    "    if home.money < 200:\n",
    "        man.work(home)\n",
    "    if home.money > 400 and woman.happiness < 35:\n",
    "        woman.buy_fur(home)\n",
    "        fur += 1\n",
    "    if home.food < 50 or home.feed < 50:\n",
    "        woman.shop(home, 50)\n",
    "    if man.happiness < 25:\n",
    "        man.play()\n",
    "        man.pet()\n",
    "    if woman.happiness < 15:\n",
    "        woman.pet()\n",
    "    if man.fullness < 10: \n",
    "        man.eat(home)\n",
    "    if woman.fullness < 10:\n",
    "        woman.eat(home)\n",
    "    if cat.fullness < 50:\n",
    "        cat.eat(home)\n",
    "    if home.dirt < 50:\n",
    "        cat.damage(home)\n",
    "print(f'{woman.name} купила {fur} шуб, {home.money} заработано, {home.food} еды осталось.')"
   ]
  },
  {
   "cell_type": "markdown",
   "id": "39c01c0c",
   "metadata": {},
   "source": [
    "# 7. Стек"
   ]
  },
  {
   "cell_type": "code",
   "execution_count": 1,
   "id": "f5fd3205",
   "metadata": {},
   "outputs": [
    {
     "name": "stdout",
     "output_type": "stream",
     "text": [
      "<class 'list'>\n",
      "<class 'list_iterator'>\n"
     ]
    }
   ],
   "source": []
  }
 ],
 "metadata": {
  "kernelspec": {
   "display_name": "Python 3 (ipykernel)",
   "language": "python",
   "name": "python3"
  },
  "language_info": {
   "codemirror_mode": {
    "name": "ipython",
    "version": 3
   },
   "file_extension": ".py",
   "mimetype": "text/x-python",
   "name": "python",
   "nbconvert_exporter": "python",
   "pygments_lexer": "ipython3",
   "version": "3.10.2"
  }
 },
 "nbformat": 4,
 "nbformat_minor": 5
}
